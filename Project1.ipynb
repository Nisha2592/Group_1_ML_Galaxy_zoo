{
 "cells": [
  {
   "cell_type": "markdown",
   "id": "7f72f561",
   "metadata": {},
   "source": [
    "You can use this notebook to write the ML pipeline for the classification of the galaxies in the GALAXYZOO dataset or create a folder with different files associated to the different steps of the ML pipeline."
   ]
  },
  {
   "cell_type": "code",
   "execution_count": 1,
   "id": "15be4be0",
   "metadata": {},
   "outputs": [],
   "source": [
    "#Importing libraries\n",
    "\n",
    "import plotly.express as px\n",
    "import matplotlib.pyplot as plt\n",
    "import numpy as np\n",
    "from sklearn.preprocessing import StandardScaler\n",
    "from sklearn.model_selection import train_test_split\n",
    "#import Random forest classifiers\n",
    "from sklearn.metrics import accuracy_score, classification_report, confusion_matrix\n",
    "import seaborn as sns"
   ]
  },
  {
   "cell_type": "markdown",
   "id": "02232e77",
   "metadata": {},
   "source": [
    "# Downloading the Galaxy Zoo Dataset\n",
    "\n",
    "You can find the dataset from the Github repository at the url:\n",
    "\n"
   ]
  },
  {
   "cell_type": "markdown",
   "id": "27c8190c",
   "metadata": {},
   "source": [
    "https://www.kaggle.com/competitions/galaxy-zoo-the-galaxy-challenge/data"
   ]
  },
  {
   "cell_type": "markdown",
   "id": "f0aed504-3ba4-4e6c-8cf2-6a7712020c11",
   "metadata": {},
   "source": [
    "---"
   ]
  },
  {
   "cell_type": "markdown",
   "id": "00b76134-4824-4115-b3a5-de1e7775b202",
   "metadata": {},
   "source": [
    "#### Create a data frame with columns for objid and the corresponding asset_id.  \n",
    "- asset_id: an integer that corresponds to the filename of the image of a particular galaxy.\n",
    "- objid is the designation of the galaxy, e.g. galaxy 587722981741363294"
   ]
  },
  {
   "cell_type": "code",
   "execution_count": 39,
   "id": "77981e66-ff45-43e9-8566-6b7ab138d306",
   "metadata": {},
   "outputs": [
    {
     "name": "stdout",
     "output_type": "stream",
     "text": [
      "Using 1000 images from each class\n",
      "Available classes:\n",
      "\u001b[1;31m\tEi:\t \u001b[0;34mEliptic galaxies of type i\u001b[0m\n",
      "\u001b[1;31m\tS:\t \u001b[0;34mSpiral galaxy\u001b[0m\n",
      "\u001b[1;31m\tEr:\t \u001b[0;34mEliptic galaxies of type r\u001b[0m\n",
      "\u001b[1;31m\tEc:\t \u001b[0;34mEliptic galaxies of type c\u001b[0m\n",
      "\u001b[1;31m\tSB:\t \u001b[0;34mBarred spiral galaxies\u001b[0m\n"
     ]
    }
   ],
   "source": [
    "from src.get_files import write_file_list\n",
    "\n",
    "write_file_list(5_000, overwrite=True)"
   ]
  },
  {
   "cell_type": "code",
   "execution_count": 3,
   "id": "9f46a77d-db1f-42e7-a8ba-f857afbc66dc",
   "metadata": {},
   "outputs": [],
   "source": [
    "import pandas as pd \n",
    "\n",
    "# get the objid and corresponding asset_id from gz2_filename_mapping.csv\n",
    "columns_to_keep = ['objid', 'asset_id']\n",
    "\n",
    "# Read the selected columns from the file\n",
    "name_map = pd.read_csv(\"data/gz2_filename_mapping.csv\", usecols=columns_to_keep)\n",
    "\n",
    "# display the first few rows\n",
    "# print(name_map.head(5))\n",
    "\n",
    "#name_map.info()"
   ]
  },
  {
   "cell_type": "markdown",
   "id": "c7deebcc-b02f-4779-bc8e-bfbbedd33e8d",
   "metadata": {},
   "source": [
    "---"
   ]
  },
  {
   "cell_type": "markdown",
   "id": "abb15ac7-997c-4b6d-bccf-1561fe270f2f",
   "metadata": {},
   "source": [
    "#### Create a data frame with dr7objid and corresponding label. \n",
    "- dr7objid gives the galaxy designation same as objid from the previous data frame.\n",
    "- label correspond to some classification of the galaxy based on its shape and morphology. "
   ]
  },
  {
   "cell_type": "code",
   "execution_count": 4,
   "id": "00ea2dd3-b5c3-4130-a520-6ab040a9f35e",
   "metadata": {},
   "outputs": [],
   "source": [
    "# select columns dr7objid and gz2class from zoo2MainSpecz.csvW\n",
    "columns_to_keep = ['dr7objid', 'gz2class']\n",
    "\n",
    "# Read the selected columns from the file\n",
    "labels = pd.read_csv(\"data/zoo2MainSpecz.csv\", usecols=columns_to_keep)\n",
    "\n",
    "# change the name of column dr7objid to objid for merging later\n",
    "labels.rename(columns={'dr7objid':'objid'}, inplace=True)\n",
    "\n",
    "# display\n",
    "#print(labels.head(5))\n",
    "\n",
    "#labels.info()\n"
   ]
  },
  {
   "cell_type": "markdown",
   "id": "99ad74d7-4b27-47fa-9b20-38c423d4130c",
   "metadata": {},
   "source": [
    "---"
   ]
  },
  {
   "cell_type": "markdown",
   "id": "0fb83bd6-9489-413e-9117-b612c4f8f1b3",
   "metadata": {},
   "source": [
    "### 1. Convert array of pixels in rows of a tabular dataset,using single pixels as feature columns and the intensities as values measured (Chris)"
   ]
  },
  {
   "cell_type": "code",
   "execution_count": 5,
   "id": "f68b5dfd-d587-4fdb-abae-64b3b9f02dac",
   "metadata": {},
   "outputs": [
    {
     "name": "stdout",
     "output_type": "stream",
     "text": [
      "<class 'pandas.core.frame.DataFrame'>\n",
      "RangeIndex: 500 entries, 0 to 499\n",
      "Columns: 179777 entries, asset_id to 179775\n",
      "dtypes: int64(1), uint8(179776)\n",
      "memory usage: 85.7 MB\n"
     ]
    }
   ],
   "source": [
    "# load and processing images, convert to grayscale and flattening pixel. \n",
    "\n",
    "from src.data_processing import process_image_seq # sequentially load one image ata time \n",
    "\n",
    "# Directory containing the images\n",
    "image_dir = \"data/images\"\n",
    "\n",
    "# call the sequential function\n",
    "image_data = process_image_seq(image_dir)\n",
    "\n",
    "#display the data frame\n",
    "#print(image_data.head())\n",
    "image_data.info()\n",
    "\n",
    "# Save to CSV\n",
    "#image_data(\"image_pixel_data.csv\", index=False)"
   ]
  },
  {
   "cell_type": "code",
   "execution_count": 6,
   "id": "3d7633cf-eddf-465e-bb60-e857ebbafb81",
   "metadata": {},
   "outputs": [
    {
     "data": {
      "text/html": [
       "<div>\n",
       "<style scoped>\n",
       "    .dataframe tbody tr th:only-of-type {\n",
       "        vertical-align: middle;\n",
       "    }\n",
       "\n",
       "    .dataframe tbody tr th {\n",
       "        vertical-align: top;\n",
       "    }\n",
       "\n",
       "    .dataframe thead th {\n",
       "        text-align: right;\n",
       "    }\n",
       "</style>\n",
       "<table border=\"1\" class=\"dataframe\">\n",
       "  <thead>\n",
       "    <tr style=\"text-align: right;\">\n",
       "      <th></th>\n",
       "      <th>objid</th>\n",
       "      <th>asset_id</th>\n",
       "    </tr>\n",
       "  </thead>\n",
       "  <tbody>\n",
       "    <tr>\n",
       "      <th>count</th>\n",
       "      <td>2.435000e+05</td>\n",
       "      <td>243500.000000</td>\n",
       "    </tr>\n",
       "    <tr>\n",
       "      <th>mean</th>\n",
       "      <td>5.878182e+17</td>\n",
       "      <td>142391.360846</td>\n",
       "    </tr>\n",
       "    <tr>\n",
       "      <th>std</th>\n",
       "      <td>1.824223e+14</td>\n",
       "      <td>81655.120603</td>\n",
       "    </tr>\n",
       "    <tr>\n",
       "      <th>min</th>\n",
       "      <td>5.877230e+17</td>\n",
       "      <td>3.000000</td>\n",
       "    </tr>\n",
       "    <tr>\n",
       "      <th>25%</th>\n",
       "      <td>5.877327e+17</td>\n",
       "      <td>71992.750000</td>\n",
       "    </tr>\n",
       "    <tr>\n",
       "      <th>50%</th>\n",
       "      <td>5.877393e+17</td>\n",
       "      <td>141183.500000</td>\n",
       "    </tr>\n",
       "    <tr>\n",
       "      <th>75%</th>\n",
       "      <td>5.877449e+17</td>\n",
       "      <td>213104.250000</td>\n",
       "    </tr>\n",
       "    <tr>\n",
       "      <th>max</th>\n",
       "      <td>5.888489e+17</td>\n",
       "      <td>295305.000000</td>\n",
       "    </tr>\n",
       "  </tbody>\n",
       "</table>\n",
       "</div>"
      ],
      "text/plain": [
       "              objid       asset_id\n",
       "count  2.435000e+05  243500.000000\n",
       "mean   5.878182e+17  142391.360846\n",
       "std    1.824223e+14   81655.120603\n",
       "min    5.877230e+17       3.000000\n",
       "25%    5.877327e+17   71992.750000\n",
       "50%    5.877393e+17  141183.500000\n",
       "75%    5.877449e+17  213104.250000\n",
       "max    5.888489e+17  295305.000000"
      ]
     },
     "execution_count": 6,
     "metadata": {},
     "output_type": "execute_result"
    }
   ],
   "source": [
    "# Merge labels and name_map dataframes to map asset_id to gz2class\n",
    "# merge based on objid. use an inner join (only matching rows) \n",
    "# since only a subset of points in labels are in name_map, ann inner join \n",
    "# will include the rows from name_map that have matching gz2class values\n",
    "# this will avoid NaNs\n",
    "\n",
    "labels_mapped = pd.merge(name_map, labels, on='objid', how='inner' ) \n",
    "\n",
    "\n",
    "labels_mapped.describe() # should have the same number of rows as the dataframe labels"
   ]
  },
  {
   "cell_type": "code",
   "execution_count": 7,
   "id": "2019b719-248f-40c9-aa87-8b08656691eb",
   "metadata": {},
   "outputs": [
    {
     "name": "stdout",
     "output_type": "stream",
     "text": [
      "                objid  asset_id   0   1   2  3  4  5  6  7  ...  179767  \\\n",
      "0  587722982281052314       203   5   5   5  5  5  5  5  5  ...       2   \n",
      "1  587722982829130044       785   2   2   2  2  2  3  3  3  ...       5   \n",
      "2  587722984437579948      1908   6   5   3  1  2  3  5  7  ...       3   \n",
      "3  587725040628465756      4526  17  15  11  7  4  2  1  1  ...       4   \n",
      "4  587725074458476803      5311   1   2   4  5  7  8  8  8  ...       3   \n",
      "\n",
      "   179768  179769  179770  179771  179772  179773  179774  179775  gz2class  \n",
      "0       3       8      11       9       4       0       1       3        Er  \n",
      "1       4       5       5       6       6       5       5       4       SBb  \n",
      "2       2       2       2       1       1       0       0       0      Sc2m  \n",
      "3       7      11      13       9       8      10      11      10     SBb2t  \n",
      "4       5       7      11      15      18      17      13       9      Sc2t  \n",
      "\n",
      "[5 rows x 179779 columns]\n",
      "gz2class\n",
      "Er    100\n",
      "SB    100\n",
      "S     100\n",
      "Ei    100\n",
      "Ec    100\n",
      "Name: count, dtype: int64\n",
      "<class 'pandas.core.frame.DataFrame'>\n",
      "RangeIndex: 500 entries, 0 to 499\n",
      "Columns: 179779 entries, objid to gz2class\n",
      "dtypes: int64(2), object(1), uint8(179776)\n",
      "memory usage: 85.7+ MB\n"
     ]
    }
   ],
   "source": [
    "# Merge labels_mapped with image_data to insert gz2class columnt to the latter \n",
    "# Merge based on asset_id and use an inner join. image_data which is our \n",
    "# main data frame will only have, in general, a subset of data points (galaxies)\n",
    "# in labels_mapped. \n",
    "\n",
    "#merge\n",
    "galaxy_data = pd.merge(labels_mapped, image_data, on='asset_id', how='inner' ) \n",
    "\n",
    "# Move gz2class to the last position to serve as labels\n",
    "galaxy_data['gz2class'] = galaxy_data.pop('gz2class')  \n",
    "\n",
    "# print\n",
    "print(galaxy_data.head(5))\n",
    "\n",
    "galaxy_data['gz2class'] = galaxy_data['gz2class'].str[:2].replace(r\"\\bS[a-z]\\w*\", \"S\", regex = True)\n",
    "print(galaxy_data['gz2class'].value_counts())\n",
    "\n",
    "galaxy_data.info()"
   ]
  },
  {
   "cell_type": "code",
   "execution_count": 8,
   "id": "5c395322-29a3-4aa4-811e-07c957af09b7",
   "metadata": {},
   "outputs": [],
   "source": [
    "from dask import delayed, compute\n",
    "import os \n",
    "from PIL import Image, ImageOps\n",
    "from numpy import asarray"
   ]
  },
  {
   "cell_type": "code",
   "execution_count": 9,
   "id": "14594255-80eb-45e7-8a75-78e71866d3d6",
   "metadata": {},
   "outputs": [],
   "source": [
    "# parallel implementation of processing the images with DASK\n",
    "\n",
    "from src.data_processing import process_image_dask\n",
    "\n",
    "# Directory containing images\n",
    "image_dir = \"data/images\"\n",
    "\n",
    "# Get list of image file paths\n",
    "image_files = [\n",
    "    os.path.join(image_dir, f) for f in os.listdir(image_dir)\n",
    "    if f.endswith(('.png', '.jpg'))\n",
    "]\n",
    "\n",
    "# Parallel execution using Dask\n",
    "delayed_results = [process_image_dask(img) for img in image_files]\n",
    "results = compute(*delayed_results)\n",
    "\n",
    "# Filter out failed reads\n",
    "results = [res for res in results if res is not None]\n",
    "\n",
    "# Convert to Dask DataFrame\n",
    "image_names, data = zip(*results)\n",
    "image_data = pd.DataFrame(data)\n",
    "image_data.insert(0, \"asset_id\", image_names)\n",
    "\n",
    "#print(galaxy_data.head())\n",
    "\n",
    "#image_data.info()\n",
    "\n",
    "# Save to CSV\n",
    "#df.to_csv(\"image_pixel_data.csv\", index=False)\n",
    "#print(\"Processing complete. Data saved to 'image_pixel_data.csv'.\")\n"
   ]
  },
  {
   "cell_type": "code",
   "execution_count": 10,
   "id": "45bc66c7-4ae4-4a94-a49b-073d716736ad",
   "metadata": {},
   "outputs": [
    {
     "name": "stdout",
     "output_type": "stream",
     "text": [
      "                objid  asset_id   0   1   2  3  4  5  6  7  ...  179767  \\\n",
      "0  587722982281052314       203   5   5   5  5  5  5  5  5  ...       2   \n",
      "1  587722982829130044       785   2   2   2  2  2  3  3  3  ...       5   \n",
      "2  587722984437579948      1908   6   5   3  1  2  3  5  7  ...       3   \n",
      "3  587725040628465756      4526  17  15  11  7  4  2  1  1  ...       4   \n",
      "4  587725074458476803      5311   1   2   4  5  7  8  8  8  ...       3   \n",
      "\n",
      "   179768  179769  179770  179771  179772  179773  179774  179775  gz2class  \n",
      "0       3       8      11       9       4       0       1       3        Er  \n",
      "1       4       5       5       6       6       5       5       4       SBb  \n",
      "2       2       2       2       1       1       0       0       0      Sc2m  \n",
      "3       7      11      13       9       8      10      11      10     SBb2t  \n",
      "4       5       7      11      15      18      17      13       9      Sc2t  \n",
      "\n",
      "[5 rows x 179779 columns]\n",
      "gz2class\n",
      "Er    100\n",
      "SB    100\n",
      "S     100\n",
      "Ei    100\n",
      "Ec    100\n",
      "Name: count, dtype: int64\n",
      "Empty DataFrame\n",
      "Columns: [objid, asset_id, 0, 1, 2, 3, 4, 5, 6, 7, 8, 9, 10, 11, 12, 13, 14, 15, 16, 17, 18, 19, 20, 21, 22, 23, 24, 25, 26, 27, 28, 29, 30, 31, 32, 33, 34, 35, 36, 37, 38, 39, 40, 41, 42, 43, 44, 45, 46, 47, 48, 49, 50, 51, 52, 53, 54, 55, 56, 57, 58, 59, 60, 61, 62, 63, 64, 65, 66, 67, 68, 69, 70, 71, 72, 73, 74, 75, 76, 77, 78, 79, 80, 81, 82, 83, 84, 85, 86, 87, 88, 89, 90, 91, 92, 93, 94, 95, 96, 97, ...]\n",
      "Index: []\n",
      "\n",
      "[0 rows x 179779 columns]\n",
      "<class 'pandas.core.frame.DataFrame'>\n",
      "RangeIndex: 500 entries, 0 to 499\n",
      "Columns: 179779 entries, objid to gz2class\n",
      "dtypes: int64(2), object(1), uint8(179776)\n",
      "memory usage: 85.7+ MB\n"
     ]
    }
   ],
   "source": [
    "# Merge labels_mapped with image_data to insert gz2class columnt to the latter \n",
    "# Merge based on asset_id and use an inner join. image_data which is our \n",
    "# main data frame will only have, in general, a subset of data points (galaxies)\n",
    "# in labels_mapped. \n",
    "# convert asset_id values in image_data from object to int64 before mergeing\n",
    "\n",
    "#merge\n",
    "galaxy_data = pd.merge(labels_mapped, image_data, on='asset_id', how='inner') \n",
    "\n",
    "# Move gz2class to the last position to serve as labels\n",
    "galaxy_data['gz2class'] = galaxy_data.pop('gz2class')  \n",
    "\n",
    "# print\n",
    "print(galaxy_data.head(5))\n",
    "galaxy_data['gz2class'] = galaxy_data['gz2class'].str[:2].replace(r\"\\bS[a-z]\\w*\", \"S\", regex = True)\n",
    "\n",
    "print(galaxy_data['gz2class'].value_counts())\n",
    "print(galaxy_data[galaxy_data['gz2class'] == 'A'])\n",
    "galaxy_data.info()"
   ]
  },
  {
   "cell_type": "markdown",
   "id": "2c8845a8-a5db-496b-9ac3-d71738d22fc0",
   "metadata": {},
   "source": [
    "---"
   ]
  },
  {
   "cell_type": "markdown",
   "id": "ed5ecb25-a90d-453d-b5be-ff1d3f5b3251",
   "metadata": {},
   "source": [
    "### 2. Perform EDA and feature preprocessing (Nisha)\n",
    "#### 2.1 Exploratory Data Analysis (EDA)\n",
    "EDA is performed to understand the characteristics of the dataset, for which following steps are taken:\n",
    "1. Check dataset dimensions to understand the number of samples and features.\n",
    "2. Check data types and missing values to identify necessary preproessing steps.\n",
    "3. Generate summary statistics to identify the distribution and significant statistics of numerical features."
   ]
  },
  {
   "cell_type": "code",
   "execution_count": 11,
   "id": "fc70aecf-4e70-41bf-8ec3-999b24cc9bde",
   "metadata": {},
   "outputs": [
    {
     "name": "stdout",
     "output_type": "stream",
     "text": [
      "(500, 179779)\n",
      "<class 'pandas.core.frame.DataFrame'>\n",
      "RangeIndex: 500 entries, 0 to 499\n",
      "Columns: 179779 entries, objid to gz2class\n",
      "dtypes: int64(2), object(1), uint8(179776)\n",
      "memory usage: 85.7+ MB\n",
      "              objid       asset_id           0           1         2  \\\n",
      "count  5.000000e+02     500.000000  500.000000  500.000000  500.0000   \n",
      "mean   5.878096e+17  143714.944000    5.792000    5.800000    5.8200   \n",
      "std    1.499078e+14   82300.116651    7.762813    8.399351    9.1037   \n",
      "min    5.877230e+17     203.000000    0.000000    0.000000    0.0000   \n",
      "25%    5.877327e+17   71165.750000    2.000000    2.000000    2.0000   \n",
      "50%    5.877394e+17  150039.000000    4.000000    4.000000    4.0000   \n",
      "75%    5.877454e+17  213364.750000    7.250000    7.000000    7.0000   \n",
      "max    5.888489e+17  294339.000000   96.000000  100.000000  118.0000   \n",
      "\n",
      "               3           4           5           6           7  ...  \\\n",
      "count  500.00000  500.000000  500.000000  500.000000  500.000000  ...   \n",
      "mean     5.80400    5.820000    5.812000    5.728000    5.680000  ...   \n",
      "std      9.07581    8.837863    8.633988    8.573975    8.840923  ...   \n",
      "min      0.00000    0.000000    0.000000    0.000000    0.000000  ...   \n",
      "25%      2.00000    2.000000    2.000000    2.000000    2.000000  ...   \n",
      "50%      4.00000    4.000000    4.000000    4.000000    4.000000  ...   \n",
      "75%      7.00000    7.000000    7.000000    7.000000    7.000000  ...   \n",
      "max    109.00000  112.000000  115.000000  119.000000  122.000000  ...   \n",
      "\n",
      "           179766      179767      179768      179769      179770      179771  \\\n",
      "count  500.000000  500.000000  500.000000  500.000000  500.000000  500.000000   \n",
      "mean     5.898000    5.788000    5.786000    5.726000    5.738000    5.910000   \n",
      "std      9.130516    8.836698    8.680952    8.579869    8.687941    8.881422   \n",
      "min      0.000000    0.000000    0.000000    0.000000    0.000000    0.000000   \n",
      "25%      2.000000    2.000000    2.000000    2.000000    2.000000    2.000000   \n",
      "50%      4.000000    4.000000    4.000000    4.000000    4.000000    4.000000   \n",
      "75%      7.000000    7.000000    7.000000    7.000000    7.000000    7.000000   \n",
      "max    108.000000  107.000000  104.000000  101.000000   96.000000   92.000000   \n",
      "\n",
      "           179772      179773      179774      179775  \n",
      "count  500.000000  500.000000  500.000000  500.000000  \n",
      "mean     6.156000    6.268000    6.234000    6.218000  \n",
      "std      9.038088    9.068663    9.101699    9.286277  \n",
      "min      0.000000    0.000000    0.000000    0.000000  \n",
      "25%      2.000000    2.000000    2.000000    2.000000  \n",
      "50%      4.000000    4.000000    4.000000    4.000000  \n",
      "75%      8.000000    8.000000    7.000000    8.000000  \n",
      "max     89.000000   92.000000   97.000000  101.000000  \n",
      "\n",
      "[8 rows x 179778 columns]\n"
     ]
    }
   ],
   "source": [
    "# print\n",
    "#print(galaxy_data.head(4))\n",
    "\n",
    "print(galaxy_data.shape)  # Check dimensions\n",
    "\n",
    "galaxy_data.info()# Check data types & missing values\n",
    "\n",
    "print(galaxy_data.describe())  # Get summary stats"
   ]
  },
  {
   "cell_type": "markdown",
   "id": "59d209ce-9ce5-4d47-b095-9b896d35389f",
   "metadata": {},
   "source": [
    "## Adding the symmetry data\n",
    "\n",
    "For this kind of images we can get the symmetry information given some axis in order to add a new data that can be relevant to the data frame. In the python module named `get_symmetry` inside of the `src/` folder we define a pair of functions that given an array of images and the number of axis of symmetry we compute the differences between the intensity values of each pixel pair.\n",
    "\n",
    "The process of getting the symmetries is the following one:\n",
    "\n",
    "1. Get the coordinates of each pixel.\n",
    "2. Rotate the coordinate system in an angle $ \\theta = \\dfrac{i * \\pi }{n\\_axis} $. Where $i$ is a number that goes from 0 to $ \\dfrac{n\\_axis}{2}$ and $n_axis$ is the number of axis of symmetry\n",
    "3. Ignore the data that is outside of a circle of radius width of the image and centered in the middle of the image.\n",
    "4. Split the image in the upper and the lower part, reflect the left part and compute the distance and append to the vector that stores the symmetry values.\n",
    "5. Split the image in the left and right part, reflect the right part and compute the distance and append to the vector that stores the symmetry values.\n",
    "6. Repeat until $i = \\dfrac{n\\_axis}{2}$.\n",
    "7. Return the vector with the symmetry values.\n",
    "\n",
    "For instance, an example of the step 5 is showing on the next image:\n",
    "\n",
    "![assets/symmetries.png](assets/symmetries.png)\n",
    "\n",
    "Lower the distance (darker the image) more symmetric the original image.\n",
    "\n",
    "Then, we have the following code:"
   ]
  },
  {
   "cell_type": "code",
   "execution_count": 12,
   "id": "29fcb602-0551-4abd-bb90-500f31be6d70",
   "metadata": {},
   "outputs": [],
   "source": [
    "# Import the function from the module\n",
    "from src.get_symmetry import get_all_symmetries\n",
    "\n",
    "# Get the data related with the pixels\n",
    "get_images_column = np.linspace(0, 424*424-1, 424*424)\n",
    "# Reshape the image and assign it to an array\n",
    "images_array = np.reshape(galaxy_data[get_images_column].to_numpy(), shape = (galaxy_data.shape[0], 424, 424))"
   ]
  },
  {
   "cell_type": "code",
   "execution_count": 13,
   "id": "0e1bed3d-467b-4bf8-b425-3bea8133d768",
   "metadata": {},
   "outputs": [
    {
     "name": "stdout",
     "output_type": "stream",
     "text": [
      "CPU times: user 37.3 s, sys: 3.04 ms, total: 37.3 s\n",
      "Wall time: 37.3 s\n"
     ]
    }
   ],
   "source": [
    "%%time\n",
    "# Chossing the number of axis\n",
    "axis = 12\n",
    "\n",
    "# Defining the column names\n",
    "columns = [f\"axis-{i}\" for i in range(axis)]\n",
    "\n",
    "# Getting the data\n",
    "sym_data = get_all_symmetries(images_array, axis)"
   ]
  },
  {
   "cell_type": "code",
   "execution_count": 14,
   "id": "3d8bd4d3-3baa-45e1-a2d7-61263427f0d8",
   "metadata": {},
   "outputs": [
    {
     "data": {
      "text/html": [
       "<div>\n",
       "<style scoped>\n",
       "    .dataframe tbody tr th:only-of-type {\n",
       "        vertical-align: middle;\n",
       "    }\n",
       "\n",
       "    .dataframe tbody tr th {\n",
       "        vertical-align: top;\n",
       "    }\n",
       "\n",
       "    .dataframe thead th {\n",
       "        text-align: right;\n",
       "    }\n",
       "</style>\n",
       "<table border=\"1\" class=\"dataframe\">\n",
       "  <thead>\n",
       "    <tr style=\"text-align: right;\">\n",
       "      <th></th>\n",
       "      <th>axis-0</th>\n",
       "      <th>axis-1</th>\n",
       "      <th>axis-2</th>\n",
       "      <th>axis-3</th>\n",
       "      <th>axis-4</th>\n",
       "      <th>axis-5</th>\n",
       "      <th>axis-6</th>\n",
       "      <th>axis-7</th>\n",
       "      <th>axis-8</th>\n",
       "      <th>axis-9</th>\n",
       "      <th>axis-10</th>\n",
       "      <th>axis-11</th>\n",
       "    </tr>\n",
       "  </thead>\n",
       "  <tbody>\n",
       "    <tr>\n",
       "      <th>count</th>\n",
       "      <td>500.000000</td>\n",
       "      <td>500.000000</td>\n",
       "      <td>500.000000</td>\n",
       "      <td>500.000000</td>\n",
       "      <td>500.000000</td>\n",
       "      <td>500.000000</td>\n",
       "      <td>500.000000</td>\n",
       "      <td>500.000000</td>\n",
       "      <td>500.000000</td>\n",
       "      <td>500.000000</td>\n",
       "      <td>500.000000</td>\n",
       "      <td>500.000000</td>\n",
       "    </tr>\n",
       "    <tr>\n",
       "      <th>mean</th>\n",
       "      <td>3.056588</td>\n",
       "      <td>3.059758</td>\n",
       "      <td>3.019427</td>\n",
       "      <td>3.031812</td>\n",
       "      <td>3.029793</td>\n",
       "      <td>3.043744</td>\n",
       "      <td>3.050734</td>\n",
       "      <td>3.023746</td>\n",
       "      <td>3.051588</td>\n",
       "      <td>2.997243</td>\n",
       "      <td>3.021750</td>\n",
       "      <td>2.967107</td>\n",
       "    </tr>\n",
       "    <tr>\n",
       "      <th>std</th>\n",
       "      <td>1.219368</td>\n",
       "      <td>1.399774</td>\n",
       "      <td>1.176089</td>\n",
       "      <td>1.418754</td>\n",
       "      <td>1.184998</td>\n",
       "      <td>1.431386</td>\n",
       "      <td>1.268979</td>\n",
       "      <td>1.399400</td>\n",
       "      <td>1.341846</td>\n",
       "      <td>1.342650</td>\n",
       "      <td>1.381351</td>\n",
       "      <td>1.287402</td>\n",
       "    </tr>\n",
       "    <tr>\n",
       "      <th>min</th>\n",
       "      <td>1.388773</td>\n",
       "      <td>1.409788</td>\n",
       "      <td>1.422253</td>\n",
       "      <td>1.394396</td>\n",
       "      <td>1.320265</td>\n",
       "      <td>1.308929</td>\n",
       "      <td>1.341458</td>\n",
       "      <td>1.342537</td>\n",
       "      <td>1.314241</td>\n",
       "      <td>1.275003</td>\n",
       "      <td>1.339806</td>\n",
       "      <td>1.314975</td>\n",
       "    </tr>\n",
       "    <tr>\n",
       "      <th>25%</th>\n",
       "      <td>2.262105</td>\n",
       "      <td>2.220256</td>\n",
       "      <td>2.231334</td>\n",
       "      <td>2.188500</td>\n",
       "      <td>2.270822</td>\n",
       "      <td>2.207524</td>\n",
       "      <td>2.233983</td>\n",
       "      <td>2.179739</td>\n",
       "      <td>2.228038</td>\n",
       "      <td>2.169273</td>\n",
       "      <td>2.170750</td>\n",
       "      <td>2.163421</td>\n",
       "    </tr>\n",
       "    <tr>\n",
       "      <th>50%</th>\n",
       "      <td>2.746365</td>\n",
       "      <td>2.726412</td>\n",
       "      <td>2.759929</td>\n",
       "      <td>2.717699</td>\n",
       "      <td>2.774689</td>\n",
       "      <td>2.738997</td>\n",
       "      <td>2.756539</td>\n",
       "      <td>2.682616</td>\n",
       "      <td>2.725024</td>\n",
       "      <td>2.670006</td>\n",
       "      <td>2.680947</td>\n",
       "      <td>2.627723</td>\n",
       "    </tr>\n",
       "    <tr>\n",
       "      <th>75%</th>\n",
       "      <td>3.441335</td>\n",
       "      <td>3.429936</td>\n",
       "      <td>3.405574</td>\n",
       "      <td>3.375442</td>\n",
       "      <td>3.418542</td>\n",
       "      <td>3.387949</td>\n",
       "      <td>3.467156</td>\n",
       "      <td>3.406788</td>\n",
       "      <td>3.485444</td>\n",
       "      <td>3.405442</td>\n",
       "      <td>3.400149</td>\n",
       "      <td>3.338621</td>\n",
       "    </tr>\n",
       "    <tr>\n",
       "      <th>max</th>\n",
       "      <td>11.894485</td>\n",
       "      <td>14.052593</td>\n",
       "      <td>10.307294</td>\n",
       "      <td>14.471932</td>\n",
       "      <td>12.566015</td>\n",
       "      <td>14.581290</td>\n",
       "      <td>13.222026</td>\n",
       "      <td>14.380179</td>\n",
       "      <td>13.167036</td>\n",
       "      <td>13.840657</td>\n",
       "      <td>13.235421</td>\n",
       "      <td>13.066666</td>\n",
       "    </tr>\n",
       "  </tbody>\n",
       "</table>\n",
       "</div>"
      ],
      "text/plain": [
       "           axis-0      axis-1      axis-2      axis-3      axis-4      axis-5  \\\n",
       "count  500.000000  500.000000  500.000000  500.000000  500.000000  500.000000   \n",
       "mean     3.056588    3.059758    3.019427    3.031812    3.029793    3.043744   \n",
       "std      1.219368    1.399774    1.176089    1.418754    1.184998    1.431386   \n",
       "min      1.388773    1.409788    1.422253    1.394396    1.320265    1.308929   \n",
       "25%      2.262105    2.220256    2.231334    2.188500    2.270822    2.207524   \n",
       "50%      2.746365    2.726412    2.759929    2.717699    2.774689    2.738997   \n",
       "75%      3.441335    3.429936    3.405574    3.375442    3.418542    3.387949   \n",
       "max     11.894485   14.052593   10.307294   14.471932   12.566015   14.581290   \n",
       "\n",
       "           axis-6      axis-7      axis-8      axis-9     axis-10     axis-11  \n",
       "count  500.000000  500.000000  500.000000  500.000000  500.000000  500.000000  \n",
       "mean     3.050734    3.023746    3.051588    2.997243    3.021750    2.967107  \n",
       "std      1.268979    1.399400    1.341846    1.342650    1.381351    1.287402  \n",
       "min      1.341458    1.342537    1.314241    1.275003    1.339806    1.314975  \n",
       "25%      2.233983    2.179739    2.228038    2.169273    2.170750    2.163421  \n",
       "50%      2.756539    2.682616    2.725024    2.670006    2.680947    2.627723  \n",
       "75%      3.467156    3.406788    3.485444    3.405442    3.400149    3.338621  \n",
       "max     13.222026   14.380179   13.167036   13.840657   13.235421   13.066666  "
      ]
     },
     "execution_count": 14,
     "metadata": {},
     "output_type": "execute_result"
    }
   ],
   "source": [
    "# Appending to the data frame\n",
    "for i in range(axis):\n",
    "    galaxy_data[columns[i]] = sym_data[:,i]\n",
    "\n",
    "\n",
    "# Move gz2class to the last position to serve as labels\n",
    "galaxy_data['gz2class'] = galaxy_data.pop('gz2class')  \n",
    "\n",
    "galaxy_data[columns].describe()"
   ]
  },
  {
   "cell_type": "code",
   "execution_count": 15,
   "id": "efd95fa7-c6f6-47a5-8627-dfd3616be548",
   "metadata": {},
   "outputs": [],
   "source": [
    "#print(galaxy_data.head())\n",
    "#galaxy_data.info"
   ]
  },
  {
   "cell_type": "markdown",
   "id": "dd3dcfc4-749d-4696-9847-9618d128d159",
   "metadata": {},
   "source": [
    "### Feature Preprocessing\n",
    "We apply variance threshold to remove low-variance features. After testing we found that varaince threshold did not affect the dataset shape."
   ]
  },
  {
   "cell_type": "code",
   "execution_count": 20,
   "id": "936828d3-d688-4100-bd5a-02ca4f638627",
   "metadata": {},
   "outputs": [
    {
     "name": "stdout",
     "output_type": "stream",
     "text": [
      "Shape after removing low-variance features: (500, 179789)\n"
     ]
    }
   ],
   "source": [
    "# In this step we check different values of variance (0.001,0.1, 0.5) but the shape remain same.\n",
    "from sklearn.feature_selection import VarianceThreshold\n",
    "\n",
    "galaxy_data.columns = galaxy_data.columns.astype(str)\n",
    "\n",
    "# Drop ID and target columns first\n",
    "columns_to_drop = ['objid', 'gz2class']\n",
    "feature_data = galaxy_data.drop(columns=columns_to_drop)\n",
    "\n",
    "# Remove low-variance features\n",
    "selector = VarianceThreshold(threshold=0.1)\n",
    "feature_data = feature_data.loc[:, selector.fit(feature_data).get_support()]\n",
    "\n",
    "print(\"Shape after removing low-variance features:\", feature_data.shape)"
   ]
  },
  {
   "cell_type": "markdown",
   "id": "5a98a32b-3b51-4808-a42d-8ada2a7342bd",
   "metadata": {},
   "source": [
    "### Principal Component Analysis (PCA)\n",
    "\n",
    "To reduce the dimensionality of our dataset while preserving essential information, we apply **Principal Component Analysis (PCA)**. \n",
    "\n",
    "#### **Steps Taken:**\n",
    "- Selected only the pixel features, excluding metadata (first two columns) and label.\n",
    "- Applied PCA with `n_components=0.95`, which means we retained **95% of the original variance** in the dataset.\n",
    "- Transformed the dataset into principal components and created a new dataframe.\n",
    "- Reinserted metadata columns (`objid`, `asset_id`) and the target label (`gz2class`).\n",
    "- Printed the original and reduced dataset shapes for comparison.\n",
    "\n",
    "#### **Results:**\n",
    "The dataset dimensionality was significantly reduced from 179,791 features to 296, while still retaining 95% of its important information."
   ]
  },
  {
   "cell_type": "code",
   "execution_count": 19,
   "id": "e16bb97c-e26b-421a-a04e-97c0fd54f96c",
   "metadata": {},
   "outputs": [
    {
     "name": "stdout",
     "output_type": "stream",
     "text": [
      "Original shape: (500, 179791), Reduced shape with PCA: (500, 296)\n"
     ]
    }
   ],
   "source": [
    "from sklearn.decomposition import PCA\n",
    "\n",
    "# Select only pixel features (exclude first two columns and label)\n",
    "pixel_data = galaxy_data.iloc[:, 2:-1]  \n",
    "\n",
    "# Apply PCA to retain 95% of the variance\n",
    "pca = PCA(n_components=0.95)  # Retain 95% of the variance\n",
    "principal_components = pca.fit_transform(pixel_data)\n",
    "\n",
    "# Create new dataframe with principal components\n",
    "galaxy_data_pca = pd.DataFrame(principal_components)\n",
    "\n",
    "# Reinsert metadata columns\n",
    "galaxy_data_pca.insert(0, \"objid\", galaxy_data[\"objid\"])\n",
    "galaxy_data_pca.insert(1, \"asset_id\", galaxy_data[\"asset_id\"])\n",
    "galaxy_data_pca[\"gz2class\"] = galaxy_data[\"gz2class\"]\n",
    "\n",
    "print(f\"Original shape: {galaxy_data.shape}, Reduced shape with PCA: {galaxy_data_pca.shape}\")"
   ]
  },
  {
   "cell_type": "markdown",
   "id": "4e33f4b7-d765-4553-ad25-d46d54ec0a5b",
   "metadata": {},
   "source": [
    "---"
   ]
  },
  {
   "cell_type": "markdown",
   "id": "fab8ac96-c6f0-4934-ac09-6a8022a2a736",
   "metadata": {},
   "source": [
    "### 5. Check how many clusters can be associated to the data points joint distribution using tSNE or UMAP. "
   ]
  },
  {
   "cell_type": "code",
   "execution_count": 21,
   "id": "c06b3140-f30d-4111-95bf-c63d8445d573",
   "metadata": {},
   "outputs": [
    {
     "data": {
      "image/png": "[encoded data removed]",
      "text/plain": [
       "<Figure size 800x600 with 1 Axes>"
      ]
     },
     "metadata": {},
     "output_type": "display_data"
    }
   ],
   "source": [
    "from sklearn.manifold import TSNE\n",
    "\n",
    "# Convert PCA-reduced data to numpy array (excluding metadata columns)\n",
    "X_pca = galaxy_data_pca.iloc[:, 2:-1].values  # Excluding \"objectid\", \"asset_id\", and \"gz2class\"\n",
    "\n",
    "# Apply t-SNE to reduce to 2D\n",
    "tsne = TSNE(n_components=2, perplexity=30, random_state=42)\n",
    "X_tsne = tsne.fit_transform(X_pca)\n",
    "\n",
    "# Plot t-SNE results\n",
    "plt.figure(figsize=(8, 6))\n",
    "sns.scatterplot(x=X_tsne[:, 0], y=X_tsne[:, 1], hue=galaxy_data_pca[\"gz2class\"], palette=\"viridis\", alpha=0.7)\n",
    "plt.xlabel(\"t-SNE Component 1\")\n",
    "plt.ylabel(\"t-SNE Component 2\")\n",
    "plt.title(\"t-SNE Clustering of Galaxy Images\")\n",
    "plt.legend(title=\"Label\")\n",
    "plt.show()"
   ]
  },
  {
   "cell_type": "markdown",
   "id": "76d2c9a4-3d18-4080-898a-484faf46094f",
   "metadata": {},
   "source": [
    "### Building and Training the Classifier\n",
    "\n",
    "To classify galaxies based on their extracted features, we implemented a **Random Forest Classifier** and experimented with different hyperparameters to optimize its performance.\n",
    "\n",
    "#### Model Selection: Random Forest\n",
    "Random Forest is an ensemble learning method that constructs multiple decision trees and combines their outputs to improve accuracy and reduce overfitting.\n",
    "\n",
    "#### Data Preparation\n",
    "- Used the **PCA-reduced dataset** for training.\n",
    "- Extracted features (`X`) and labels (`y`) from the dataset.\n",
    "- Split the data into **80% training** and **20% testing** sets.\n",
    "\n",
    "#### Hyperparameter Tuning\n",
    "To find the optimal model, we performed **Grid Search Cross-Validation (GridSearchCV)** with the following hyperparameters:\n",
    "- **Number of trees (`n_estimators`)**: 50, 100, 200\n",
    "- **Maximum tree depth (`max_depth`)**: 10, 20, None\n",
    "\n",
    "#### Training the Classifier\n",
    "- Trained the **Random Forest Classifier** on the training set.\n",
    "- Used **GridSearchCV** to determine the best combination of hyperparameters.\n",
    "\n",
    "#### Model Evaluation\n",
    "After training, the best model was selected and tested on the unseen **20% test data**. The final accuracy score was calculated to assess the performance.\n",
    "\n",
    "#### Results\n",
    "- **Best Model Accuracy:** `0.42`\n",
    "- The best-performing model was selected based on cross-validation accuracy.\n"
   ]
  },
  {
   "cell_type": "code",
   "execution_count": 37,
   "id": "2acb043d-b675-4a44-9881-b6e41ce95f4d",
   "metadata": {},
   "outputs": [
    {
     "name": "stdout",
     "output_type": "stream",
     "text": [
      "Best Model Accuracy: 0.42\n"
     ]
    },
    {
     "data": {
      "text/plain": [
       "'\\n# Iterate through different configurations\\nfor n_estimators in n_estimators_list:\\n    for max_depth in max_depth_list:\\n        print(f\"Training Random Forest with n_estimators={n_estimators}, max_depth={max_depth}\")\\n\\n        # Initialize and train the model\\n        rf = RandomForestClassifier(n_estimators=n_estimators, max_depth=max_depth, random_state=42)\\n        rf.fit(X_train, y_train)\\n\\n        # Evaluate the model\\n        y_pred = rf.predict(X_test)\\n        accuracy = accuracy_score(y_test, y_pred)\\n\\n        print(f\"Accuracy: {accuracy:.4f}\\n\")\\n        print(classification_report(y_test, y_pred))\\n'"
      ]
     },
     "execution_count": 37,
     "metadata": {},
     "output_type": "execute_result"
    }
   ],
   "source": [
    "import pandas as pd\n",
    "import numpy as np\n",
    "import matplotlib.pyplot as plt\n",
    "from sklearn.model_selection import train_test_split\n",
    "from sklearn.ensemble import RandomForestClassifier\n",
    "from sklearn.metrics import accuracy_score, classification_report\n",
    "from sklearn.model_selection import GridSearchCV\n",
    "\n",
    "# Prepare the data\n",
    "X = galaxy_data_pca.iloc[:, 2:-1].values\n",
    "y = galaxy_data_pca[\"gz2class\"].values\n",
    "\n",
    "# Split the dataset into training and testing sets (80%-20% split)\n",
    "X_train, X_test, y_train, y_test = train_test_split(X, y, test_size=0.2, random_state=42)\n",
    "\n",
    "# Define different hyperparameters for experimentation\n",
    "param_grid = {\n",
    "'n_estimators':[50, 100, 200],  # Number of trees in the forest\n",
    "'max_depth': [10, 20, None]  # Maximum depth of trees\n",
    "}\n",
    "\n",
    "# Perform Grid Search with Cross-Validation to find the best hyperparameters\n",
    "grid_search = GridSearchCV(RandomForestClassifier(random_state=42), param_grid, cv=3, scoring='accuracy', n_jobs=-1)\n",
    "\n",
    "# Train the Random Forest model on the training data using different hyperparameter combinations\n",
    "grid_search.fit(X_train, y_train)\n",
    "\n",
    "# Retrieve the best model\n",
    "best_rf = grid_search.best_estimator_\n",
    "\n",
    "# Use the best-trained Random Forest model to make predictions on the test set\n",
    "y_pred = best_rf.predict(X_test)\n",
    "\n",
    "# Evaluate performance\n",
    "from sklearn.metrics import accuracy_score\n",
    "print(\"Best Model Accuracy:\", accuracy_score(y_test, y_pred))"
   ]
  },
  {
   "cell_type": "code",
   "execution_count": 38,
   "id": "e511344d",
   "metadata": {},
   "outputs": [
    {
     "data": {
      "image/png": "[encoded data removed]",
      "text/plain": [
       "<Figure size 600x500 with 2 Axes>"
      ]
     },
     "metadata": {},
     "output_type": "display_data"
    }
   ],
   "source": [
    "# To evaluate the performance of our Random Forest Classifier, we use a confusion matrix, which provides insight into how well the model classifies different galaxy types.\n",
    "\n",
    "from sklearn.metrics import confusion_matrix\n",
    "\n",
    "# Plot confusion matrix\n",
    "plt.figure(figsize=(6,5))\n",
    "sns.heatmap(confusion_matrix(y_test, y_pred), annot=True, fmt=\"d\", cmap=\"Blues\", xticklabels=set(y), yticklabels=set(y))\n",
    "plt.xlabel(\"Predicted Label\")\n",
    "plt.ylabel(\"True Label\")\n",
    "plt.title(\"Confusion Matrix\")\n",
    "plt.show()"
   ]
  },
  {
   "cell_type": "code",
   "execution_count": null,
   "id": "abe4e838-8a80-4ae4-a405-8320c36b8457",
   "metadata": {},
   "outputs": [],
   "source": []
  }
 ],
 "metadata": {
  "kernelspec": {
   "display_name": "Python 3 (ipykernel)",
   "language": "python",
   "name": "python3"
  },
  "language_info": {
   "codemirror_mode": {
    "name": "ipython",
    "version": 3
   },
   "file_extension": ".py",
   "mimetype": "text/x-python",
   "name": "python",
   "nbconvert_exporter": "python",
   "pygments_lexer": "ipython3",
   "version": "3.12.7"
  }
 },
 "nbformat": 4,
 "nbformat_minor": 5
}
